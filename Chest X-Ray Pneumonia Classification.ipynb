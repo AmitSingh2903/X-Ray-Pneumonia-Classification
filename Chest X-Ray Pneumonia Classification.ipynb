{
 "cells": [
  {
   "cell_type": "code",
   "execution_count": 50,
   "metadata": {
    "executionInfo": {
     "elapsed": 9999,
     "status": "ok",
     "timestamp": 1684461716914,
     "user": {
      "displayName": "Esk Ks?",
      "userId": "01952358238544147844"
     },
     "user_tz": -330
    },
    "id": "4tAVU6ln0Hp4"
   },
   "outputs": [],
   "source": [
    "import numpy as np\n",
    "import matplotlib.pyplot as plt\n",
    "import seaborn as sns\n",
    "from sklearn.metrics import confusion_matrix\n",
    "import tensorflow as tf"
   ]
  },
  {
   "cell_type": "code",
   "execution_count": 51,
   "metadata": {
    "colab": {
     "base_uri": "https://localhost:8080/"
    },
    "executionInfo": {
     "elapsed": 21342,
     "status": "ok",
     "timestamp": 1684461758819,
     "user": {
      "displayName": "Esk Ks?",
      "userId": "01952358238544147844"
     },
     "user_tz": -330
    },
    "id": "Z2MCAcvZ1Q3v",
    "outputId": "01089e1a-0d58-4165-8f58-30b0faf04a65"
   },
   "outputs": [],
   "source": [
    "#from google.colab import drive\n",
    "#drive.mount(\"/content/gdrive\")"
   ]
  },
  {
   "cell_type": "code",
   "execution_count": 52,
   "metadata": {
    "executionInfo": {
     "elapsed": 493,
     "status": "ok",
     "timestamp": 1684461774231,
     "user": {
      "displayName": "Esk Ks?",
      "userId": "01952358238544147844"
     },
     "user_tz": -330
    },
    "id": "r_VpeChe0Ncc"
   },
   "outputs": [],
   "source": [
    "train_dir = 'train'\n",
    "val_dir = 'val'\n",
    "test_dir = 'test'"
   ]
  },
  {
   "cell_type": "code",
   "execution_count": 53,
   "metadata": {
    "executionInfo": {
     "elapsed": 2,
     "status": "ok",
     "timestamp": 1684461776054,
     "user": {
      "displayName": "Esk Ks?",
      "userId": "01952358238544147844"
     },
     "user_tz": -330
    },
    "id": "lh3xUS_O0Q1q"
   },
   "outputs": [],
   "source": [
    "IMG_HEIGHT = 224\n",
    "IMG_WIDTH = 224\n",
    "\n",
    "BATCH_SIZE = 100"
   ]
  },
  {
   "cell_type": "code",
   "execution_count": 54,
   "metadata": {
    "executionInfo": {
     "elapsed": 475,
     "status": "ok",
     "timestamp": 1684461777994,
     "user": {
      "displayName": "Esk Ks?",
      "userId": "01952358238544147844"
     },
     "user_tz": -330
    },
    "id": "I4DINh3w0TiN"
   },
   "outputs": [],
   "source": [
    "train_datagen = tf.keras.preprocessing.image.ImageDataGenerator(\n",
    "    rescale=1./255,\n",
    "    rotation_range=20,\n",
    "    brightness_range=(1.2, 1.5),\n",
    "    horizontal_flip=True\n",
    ")\n",
    "\n",
    "val_datagen = tf.keras.preprocessing.image.ImageDataGenerator(\n",
    "    rescale=1./255\n",
    ")\n",
    "\n",
    "test_datagen = tf.keras.preprocessing.image.ImageDataGenerator(\n",
    "    rescale=1./255\n",
    ")"
   ]
  },
  {
   "cell_type": "code",
   "execution_count": 55,
   "metadata": {
    "colab": {
     "background_save": true
    },
    "id": "ch6mOP8J0WxR"
   },
   "outputs": [
    {
     "name": "stdout",
     "output_type": "stream",
     "text": [
      "Found 496 images belonging to 2 classes.\n",
      "Found 16 images belonging to 2 classes.\n",
      "Found 434 images belonging to 2 classes.\n"
     ]
    }
   ],
   "source": [
    "train_data = train_datagen.flow_from_directory(\n",
    "    train_dir,\n",
    "    target_size=(IMG_HEIGHT, IMG_WIDTH),\n",
    "    class_mode='binary',\n",
    "    batch_size=BATCH_SIZE\n",
    ")\n",
    "\n",
    "val_data = train_datagen.flow_from_directory(\n",
    "    val_dir,\n",
    "    target_size=(IMG_HEIGHT, IMG_WIDTH),\n",
    "    class_mode='binary',\n",
    "    batch_size=BATCH_SIZE\n",
    ")\n",
    "\n",
    "test_data = train_datagen.flow_from_directory(\n",
    "    test_dir,\n",
    "    target_size=(IMG_HEIGHT, IMG_WIDTH),\n",
    "    class_mode='binary',\n",
    "    batch_size=BATCH_SIZE\n",
    ")"
   ]
  },
  {
   "cell_type": "code",
   "execution_count": 56,
   "metadata": {
    "colab": {
     "base_uri": "https://localhost:8080/"
    },
    "executionInfo": {
     "elapsed": 2083,
     "status": "ok",
     "timestamp": 1684434893309,
     "user": {
      "displayName": "Esk Ks?",
      "userId": "01952358238544147844"
     },
     "user_tz": -330
    },
    "id": "UVzD4_1J0Xu_",
    "outputId": "856d1de1-ca91-44ed-8527-0c8d749d5bd2"
   },
   "outputs": [],
   "source": [
    "mobilenet = tf.keras.applications.MobileNetV2(\n",
    "    input_shape=(IMG_HEIGHT, IMG_WIDTH, 3),\n",
    "    include_top=True,\n",
    "    weights='imagenet',\n",
    "    pooling='avg'\n",
    ")\n",
    "\n",
    "mobilenet.trainable = True"
   ]
  },
  {
   "cell_type": "code",
   "execution_count": 57,
   "metadata": {
    "colab": {
     "base_uri": "https://localhost:8080/"
    },
    "executionInfo": {
     "elapsed": 2404,
     "status": "ok",
     "timestamp": 1684434913460,
     "user": {
      "displayName": "Esk Ks?",
      "userId": "01952358238544147844"
     },
     "user_tz": -330
    },
    "id": "FMCQE_wl0dDT",
    "outputId": "4230a752-e391-4b3a-f950-536d782bf6ca"
   },
   "outputs": [
    {
     "name": "stdout",
     "output_type": "stream",
     "text": [
      "Model: \"model_3\"\n",
      "_________________________________________________________________\n",
      " Layer (type)                Output Shape              Param #   \n",
      "=================================================================\n",
      " input_8 (InputLayer)        [(None, 224, 224, 3)]     0         \n",
      "                                                                 \n",
      " conv2d_3 (Conv2D)           (None, 223, 223, 32)      416       \n",
      "                                                                 \n",
      " max_pooling2d_3 (MaxPooling  (None, 111, 111, 32)     0         \n",
      " 2D)                                                             \n",
      "                                                                 \n",
      " flatten_3 (Flatten)         (None, 394272)            0         \n",
      "                                                                 \n",
      " dense_6 (Dense)             (None, 200)               78854600  \n",
      "                                                                 \n",
      " dropout_3 (Dropout)         (None, 200)               0         \n",
      "                                                                 \n",
      " dense_7 (Dense)             (None, 1)                 201       \n",
      "                                                                 \n",
      "=================================================================\n",
      "Total params: 78,855,217\n",
      "Trainable params: 78,855,217\n",
      "Non-trainable params: 0\n",
      "_________________________________________________________________\n",
      "None\n"
     ]
    }
   ],
   "source": [
    "inputs = tf.keras.Input(shape=(IMG_HEIGHT, IMG_WIDTH, 3))\n",
    "pretrained_model = mobilenet(inputs, training=False)\n",
    "\n",
    "\n",
    "x = tf.keras.layers.Conv2D(filters=32, kernel_size=(2, 2), activation='relu')(inputs)\n",
    "x = tf.keras.layers.MaxPooling2D(pool_size=(2, 2))(x)\n",
    "\n",
    "x = tf.keras.layers.Flatten()(x)\n",
    "x = tf.keras.layers.Dense(units=200, activation='relu')(x)\n",
    "x = tf.keras.layers.Dropout(rate=0.1)(x)\n",
    "\n",
    "outputs = tf.keras.layers.Dense(units=1, activation='sigmoid')(x)\n",
    "\n",
    "model = tf.keras.Model(inputs=inputs, outputs=outputs)\n",
    "\n",
    "\n",
    "print(model.summary())"
   ]
  },
  {
   "cell_type": "code",
   "execution_count": 58,
   "metadata": {
    "colab": {
     "base_uri": "https://localhost:8080/"
    },
    "id": "jUqMgPAz0eS6",
    "outputId": "89e2fc1c-202b-4ca7-8a9f-f1dcb4d9700b"
   },
   "outputs": [
    {
     "name": "stderr",
     "output_type": "stream",
     "text": [
      "WARNING:absl:`lr` is deprecated in Keras optimizer, please use `learning_rate` or use the legacy optimizer, e.g.,tf.keras.optimizers.legacy.Adam.\n"
     ]
    },
    {
     "name": "stdout",
     "output_type": "stream",
     "text": [
      "Epoch 1/25\n",
      "2/2 [==============================] - 9s 5s/step - loss: 51.7126 - accuracy: 0.5444 - auc: 0.5089 - val_loss: 100.4873 - val_accuracy: 0.5000 - val_auc: 0.5000 - lr: 0.0010\n",
      "Epoch 2/25\n",
      "2/2 [==============================] - 8s 3s/step - loss: 45.8032 - accuracy: 0.6855 - auc: 0.5000 - val_loss: 6.6200 - val_accuracy: 0.5000 - val_auc: 0.5000 - lr: 0.0010\n",
      "Epoch 3/25\n",
      "2/2 [==============================] - 8s 3s/step - loss: 7.7198 - accuracy: 0.3427 - auc: 0.5222 - val_loss: 9.1979 - val_accuracy: 0.5000 - val_auc: 0.5000 - lr: 0.0010\n",
      "Epoch 4/25\n",
      "2/2 [==============================] - 8s 5s/step - loss: 8.0826 - accuracy: 0.6855 - auc: 0.5032 - val_loss: 13.2956 - val_accuracy: 0.5000 - val_auc: 0.5000 - lr: 0.0010\n",
      "Epoch 5/25\n",
      "2/2 [==============================] - 8s 5s/step - loss: 5.5872 - accuracy: 0.6875 - auc: 0.5143 - val_loss: 5.2362 - val_accuracy: 0.5000 - val_auc: 0.5000 - lr: 0.0010\n",
      "Epoch 6/25\n",
      "2/2 [==============================] - 8s 3s/step - loss: 5.9835 - accuracy: 0.3730 - auc: 0.5462 - val_loss: 2.7346 - val_accuracy: 0.5625 - val_auc: 0.6875 - lr: 0.0010\n",
      "Epoch 7/25\n",
      "2/2 [==============================] - 8s 5s/step - loss: 2.9598 - accuracy: 0.6895 - auc: 0.6080 - val_loss: 5.3466 - val_accuracy: 0.5000 - val_auc: 0.5625 - lr: 0.0010\n",
      "Epoch 8/25\n",
      "2/2 [==============================] - 8s 5s/step - loss: 2.0583 - accuracy: 0.7278 - auc: 0.6882 - val_loss: 2.0866 - val_accuracy: 0.5000 - val_auc: 0.7578 - lr: 0.0010\n",
      "Epoch 9/25\n",
      "2/2 [==============================] - 15s 5s/step - loss: 2.3698 - accuracy: 0.5161 - auc: 0.7253 - val_loss: 1.5617 - val_accuracy: 0.6250 - val_auc: 0.8438 - lr: 0.0010\n",
      "Epoch 10/25\n",
      "2/2 [==============================] - 8s 3s/step - loss: 1.2905 - accuracy: 0.7520 - auc: 0.7626 - val_loss: 3.6859 - val_accuracy: 0.5625 - val_auc: 0.6250 - lr: 0.0010\n",
      "Epoch 11/25\n",
      "2/2 [==============================] - 9s 5s/step - loss: 1.1588 - accuracy: 0.7641 - auc: 0.7620 - val_loss: 1.5739 - val_accuracy: 0.5625 - val_auc: 0.8281 - lr: 0.0010\n",
      "Epoch 12/25\n",
      "2/2 [==============================] - 9s 5s/step - loss: 1.6173 - accuracy: 0.6270 - auc: 0.7639 - val_loss: 1.5103 - val_accuracy: 0.6250 - val_auc: 0.8125 - lr: 0.0010\n",
      "Epoch 13/25\n",
      "2/2 [==============================] - 8s 3s/step - loss: 1.0811 - accuracy: 0.7742 - auc: 0.7982 - val_loss: 2.4459 - val_accuracy: 0.6250 - val_auc: 0.6484 - lr: 0.0010\n",
      "Epoch 14/25\n",
      "2/2 [==============================] - 8s 3s/step - loss: 0.9319 - accuracy: 0.7782 - auc: 0.8135 - val_loss: 0.9296 - val_accuracy: 0.6250 - val_auc: 0.8125 - lr: 0.0010\n",
      "Epoch 15/25\n",
      "2/2 [==============================] - 8s 3s/step - loss: 1.2009 - accuracy: 0.6976 - auc: 0.8218 - val_loss: 1.5857 - val_accuracy: 0.6250 - val_auc: 0.7969 - lr: 0.0010\n",
      "Epoch 16/25\n",
      "2/2 [==============================] - 8s 5s/step - loss: 0.7356 - accuracy: 0.7944 - auc: 0.8650 - val_loss: 1.5232 - val_accuracy: 0.6250 - val_auc: 0.7344 - lr: 0.0010\n",
      "Epoch 17/25\n",
      "2/2 [==============================] - 8s 3s/step - loss: 0.7565 - accuracy: 0.7782 - auc: 0.8283 - val_loss: 0.5598 - val_accuracy: 0.8750 - val_auc: 0.9219 - lr: 0.0010\n",
      "Epoch 18/25\n",
      "2/2 [==============================] - 8s 3s/step - loss: 0.5658 - accuracy: 0.8105 - auc: 0.8722 - val_loss: 1.7999 - val_accuracy: 0.6250 - val_auc: 0.7344 - lr: 0.0010\n",
      "Epoch 19/25\n",
      "2/2 [==============================] - 8s 5s/step - loss: 0.4957 - accuracy: 0.8306 - auc: 0.8884 - val_loss: 0.6987 - val_accuracy: 0.5625 - val_auc: 0.7578 - lr: 0.0010\n",
      "Epoch 20/25\n",
      "2/2 [==============================] - 8s 5s/step - loss: 0.5046 - accuracy: 0.8145 - auc: 0.9038 - val_loss: 0.6570 - val_accuracy: 0.6250 - val_auc: 0.9062 - lr: 0.0010\n",
      "Epoch 21/25\n",
      "2/2 [==============================] - 8s 3s/step - loss: 0.3659 - accuracy: 0.8790 - auc: 0.9236 - val_loss: 1.3251 - val_accuracy: 0.6250 - val_auc: 0.7891 - lr: 0.0010\n",
      "Epoch 22/25\n",
      "2/2 [==============================] - 8s 3s/step - loss: 0.3886 - accuracy: 0.8548 - auc: 0.9225 - val_loss: 0.8667 - val_accuracy: 0.5000 - val_auc: 0.7422 - lr: 0.0010\n",
      "Epoch 23/25\n",
      "2/2 [==============================] - 8s 3s/step - loss: 0.3643 - accuracy: 0.8468 - auc: 0.9230 - val_loss: 0.6125 - val_accuracy: 0.7500 - val_auc: 0.7969 - lr: 0.0010\n",
      "Epoch 24/25\n",
      "2/2 [==============================] - 8s 3s/step - loss: 0.3243 - accuracy: 0.8548 - auc: 0.9374 - val_loss: 0.9649 - val_accuracy: 0.6250 - val_auc: 0.7656 - lr: 0.0010\n",
      "Epoch 25/25\n",
      "2/2 [==============================] - 8s 5s/step - loss: 0.3340 - accuracy: 0.8508 - auc: 0.9396 - val_loss: 0.6272 - val_accuracy: 0.8125 - val_auc: 0.8359 - lr: 0.0010\n"
     ]
    }
   ],
   "source": [
    "EPOCHS = 25\n",
    "\n",
    "def lr_schedule(EPOCHS):\n",
    "    lr = 0.001\n",
    "    return lr\n",
    "\n",
    "lr_callback = tf.keras.callbacks.LearningRateScheduler(lr_schedule)\n",
    "\n",
    "model.compile(\n",
    "    optimizer=tf.keras.optimizers.Adam(lr=0.001),\n",
    "    loss='binary_crossentropy',\n",
    "    metrics=[\n",
    "        'accuracy',\n",
    "        tf.keras.metrics.AUC(name='auc')\n",
    "    ]\n",
    ")\n",
    "\n",
    "history = model.fit(\n",
    "    train_data,\n",
    "    validation_data=val_data,\n",
    "    batch_size=BATCH_SIZE,\n",
    "    epochs=EPOCHS,\n",
    "    callbacks=[\n",
    "        tf.keras.callbacks.EarlyStopping(\n",
    "            monitor='val_loss',\n",
    "            patience=50,\n",
    "            restore_best_weights=True\n",
    "        ),\n",
    "        lr_callback\n",
    "    ]\n",
    ")"
   ]
  },
  {
   "cell_type": "code",
   "execution_count": 59,
   "metadata": {
    "colab": {
     "base_uri": "https://localhost:8080/",
     "height": 225
    },
    "executionInfo": {
     "elapsed": 6,
     "status": "error",
     "timestamp": 1684460534925,
     "user": {
      "displayName": "Esk Ks?",
      "userId": "01952358238544147844"
     },
     "user_tz": -330
    },
    "id": "fZriUMCR0kJ9",
    "outputId": "d310102f-3770-45c9-aabe-a4e62db6f28e"
   },
   "outputs": [
    {
     "name": "stdout",
     "output_type": "stream",
     "text": [
      "2/2 [==============================] - 5s 1s/step\n"
     ]
    }
   ],
   "source": [
    "true_labels = test_data.labels\n",
    "pred_labels = np.squeeze(np.array(model.predict(test_data) >= 0.5, dtype=np.int64))\n",
    "\n",
    "cm = confusion_matrix(true_labels, pred_labels)"
   ]
  },
  {
   "cell_type": "code",
   "execution_count": 60,
   "metadata": {
    "id": "dalqP_cW0mpc"
   },
   "outputs": [
    {
     "data": {
      "text/plain": [
       "{'NORMAL': 0, 'PNEUMONIA': 1}"
      ]
     },
     "execution_count": 60,
     "metadata": {},
     "output_type": "execute_result"
    }
   ],
   "source": [
    "test_data.class_indices"
   ]
  },
  {
   "cell_type": "code",
   "execution_count": 61,
   "metadata": {
    "id": "r1VVHBVL0pAO"
   },
   "outputs": [
    {
     "data": {
      "image/png": "[encoded data removed]",
      "text/plain": [
       "<Figure size 600x600 with 1 Axes>"
      ]
     },
     "metadata": {},
     "output_type": "display_data"
    }
   ],
   "source": [
    "plt.figure(figsize=(6, 6))\n",
    "sns.heatmap(cm, annot=True, fmt='g', vmin=0, cmap='mako', cbar=False)\n",
    "plt.xlabel(\"Predicted\")\n",
    "plt.ylabel(\"Actual\")\n",
    "plt.xticks(np.arange(2) + 0.5, ['Normal', 'Pneumonia'], fontsize=16)\n",
    "plt.yticks(np.arange(2) + 0.5, ['Normal', 'Pneumonia'], fontsize=16)\n",
    "plt.show()"
   ]
  },
  {
   "cell_type": "code",
   "execution_count": 62,
   "metadata": {
    "id": "hn4FF45H0p2e"
   },
   "outputs": [],
   "source": [
    "results = model.evaluate(test_data, verbose=0)\n",
    "\n",
    "accuracy = results[1]\n",
    "auc = results[2]"
   ]
  },
  {
   "cell_type": "code",
   "execution_count": 63,
   "metadata": {
    "id": "bm5HMED_0sLs"
   },
   "outputs": [],
   "source": [
    "tn, fp, fn, tp = cm.ravel()\n",
    "\n",
    "precision = tp / (tp + fp)\n",
    "recall = tp / (tp + fn)"
   ]
  },
  {
   "cell_type": "code",
   "execution_count": 64,
   "metadata": {
    "id": "JFul6niD0vFp"
   },
   "outputs": [
    {
     "name": "stdout",
     "output_type": "stream",
     "text": [
      "Accuracy: 0.84\n",
      "AUC: 0.93\n",
      "Precision: 0.46\n",
      "Recall: 0.53\n"
     ]
    }
   ],
   "source": [
    "print(\"Accuracy: {:.2f}\".format(accuracy))\n",
    "print(\"AUC: {:.2f}\".format(auc))\n",
    "print(\"Precision: {:.2f}\".format(precision))\n",
    "print(\"Recall: {:.2f}\".format(recall))"
   ]
  },
  {
   "cell_type": "code",
   "execution_count": 65,
   "metadata": {},
   "outputs": [
    {
     "data": {
      "text/plain": [
       "array([[112, 122],\n",
       "       [ 95, 105]], dtype=int64)"
      ]
     },
     "execution_count": 65,
     "metadata": {},
     "output_type": "execute_result"
    }
   ],
   "source": [
    "cm"
   ]
  },
  {
   "cell_type": "code",
   "execution_count": null,
   "metadata": {},
   "outputs": [],
   "source": []
  }
 ],
 "metadata": {
  "colab": {
   "authorship_tag": "ABX9TyM1jC5adjfVditc/VsibxQA",
   "name": "",
   "version": ""
  },
  "kernelspec": {
   "display_name": "Python 3 (ipykernel)",
   "language": "python",
   "name": "python3"
  },
  "language_info": {
   "codemirror_mode": {
    "name": "ipython",
    "version": 3
   },
   "file_extension": ".py",
   "mimetype": "text/x-python",
   "name": "python",
   "nbconvert_exporter": "python",
   "pygments_lexer": "ipython3",
   "version": "3.11.2"
  }
 },
 "nbformat": 4,
 "nbformat_minor": 1
}
